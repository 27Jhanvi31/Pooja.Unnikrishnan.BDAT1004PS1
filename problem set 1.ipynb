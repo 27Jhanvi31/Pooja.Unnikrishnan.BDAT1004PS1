{
 "cells": [
  {
   "cell_type": "markdown",
   "id": "bcade863",
   "metadata": {},
   "source": [
    "Question 1 \n",
    "What data type is each of the following?\n",
    "\n",
    "5\t\n",
    "5.0\t\n",
    "5 > 1\t\n",
    "'5'\t\n",
    "5 * 2\t\n",
    "'5' * 2\t\n",
    "'5' + '2'\t\n",
    "5 / 2\t\n",
    "5% 2\t\n",
    "{5, 2, 1}\t\n",
    "5== 3\t\n",
    "Pi(the number)\t"
   ]
  },
  {
   "cell_type": "code",
   "execution_count": 6,
   "id": "c3bb4eeb",
   "metadata": {},
   "outputs": [
    {
     "name": "stdout",
     "output_type": "stream",
     "text": [
      "System.Int32\r\n"
     ]
    }
   ],
   "source": [
    "var d= 5;\n",
    "Console.WriteLine(d.GetType());"
   ]
  },
  {
   "cell_type": "code",
   "execution_count": 7,
   "id": "a2b9fc3b",
   "metadata": {},
   "outputs": [
    {
     "name": "stdout",
     "output_type": "stream",
     "text": [
      "System.Double\r\n"
     ]
    }
   ],
   "source": [
    "var d= 5.0;\n",
    "Console.WriteLine(d.GetType());"
   ]
  },
  {
   "cell_type": "code",
   "execution_count": 8,
   "id": "46c6487e",
   "metadata": {},
   "outputs": [
    {
     "name": "stdout",
     "output_type": "stream",
     "text": [
      "System.Boolean\r\n"
     ]
    }
   ],
   "source": [
    "var d= 5>1;\n",
    "Console.WriteLine(d.GetType());"
   ]
  },
  {
   "cell_type": "code",
   "execution_count": 9,
   "id": "6621948e",
   "metadata": {},
   "outputs": [
    {
     "name": "stdout",
     "output_type": "stream",
     "text": [
      "System.Char\r\n"
     ]
    }
   ],
   "source": [
    "var d= '5';\n",
    "Console.WriteLine(d.GetType());"
   ]
  },
  {
   "cell_type": "code",
   "execution_count": 10,
   "id": "ce5b1cdc",
   "metadata": {},
   "outputs": [
    {
     "name": "stdout",
     "output_type": "stream",
     "text": [
      "System.Int32\r\n"
     ]
    }
   ],
   "source": [
    "var d= '5'*2;\n",
    "Console.WriteLine(d.GetType());"
   ]
  },
  {
   "cell_type": "code",
   "execution_count": 11,
   "id": "9cf4e773",
   "metadata": {},
   "outputs": [
    {
     "name": "stdout",
     "output_type": "stream",
     "text": [
      "System.Int32\r\n"
     ]
    }
   ],
   "source": [
    "var d= '5'+'2';\n",
    "Console.WriteLine(d.GetType());"
   ]
  },
  {
   "cell_type": "code",
   "execution_count": 12,
   "id": "ba42530a",
   "metadata": {},
   "outputs": [
    {
     "name": "stdout",
     "output_type": "stream",
     "text": [
      "System.Int32\r\n"
     ]
    }
   ],
   "source": [
    "var d= 5/2;\n",
    "Console.WriteLine(d.GetType());"
   ]
  },
  {
   "cell_type": "code",
   "execution_count": 13,
   "id": "de776c8f",
   "metadata": {},
   "outputs": [
    {
     "name": "stdout",
     "output_type": "stream",
     "text": [
      "System.Int32\r\n"
     ]
    }
   ],
   "source": [
    "var d= 5%2;\n",
    "Console.WriteLine(d.GetType());"
   ]
  },
  {
   "cell_type": "code",
   "execution_count": 14,
   "id": "73bf4fc3",
   "metadata": {},
   "outputs": [
    {
     "name": "stdout",
     "output_type": "stream",
     "text": [
      "System.Int32[]\r\n"
     ]
    }
   ],
   "source": [
    "int[]d={5,2,1};\n",
    "Console.WriteLine(d.GetType());"
   ]
  },
  {
   "cell_type": "code",
   "execution_count": 15,
   "id": "39e4e220",
   "metadata": {},
   "outputs": [
    {
     "name": "stdout",
     "output_type": "stream",
     "text": [
      "System.Boolean\r\n"
     ]
    }
   ],
   "source": [
    "var d=5==3;\n",
    "Console.WriteLine(d.GetType());"
   ]
  },
  {
   "cell_type": "code",
   "execution_count": 16,
   "id": "97fc2531",
   "metadata": {},
   "outputs": [
    {
     "name": "stdout",
     "output_type": "stream",
     "text": [
      "System.Double\r\n"
     ]
    }
   ],
   "source": [
    "var d=Math.PI;\n",
    "Console.WriteLine(d.GetType());"
   ]
  },
  {
   "cell_type": "markdown",
   "id": "4ad547be",
   "metadata": {},
   "source": [
    "2)Write (and evaluate) C# expressions that answer these questions:\n",
    "\n",
    "a)How many letters are there in 'Supercalifragilisticexpialidocious'?"
   ]
  },
  {
   "cell_type": "code",
   "execution_count": 17,
   "id": "0eed20d6",
   "metadata": {},
   "outputs": [
    {
     "name": "stdout",
     "output_type": "stream",
     "text": [
      "The letters in the word Supercalifragilisticexpialidocious is 34\r\n"
     ]
    }
   ],
   "source": [
    "string str = \"Supercalifragilisticexpialidocious\";\n",
    "Console.WriteLine($\"The letters in the word {str} is {str.Length}\");"
   ]
  },
  {
   "cell_type": "markdown",
   "id": "6848bfb3",
   "metadata": {},
   "source": [
    "b)Does 'Supercalifragilisticexpialidocious' contain 'ice' as a substring?"
   ]
  },
  {
   "cell_type": "code",
   "execution_count": 18,
   "id": "3ea503d0",
   "metadata": {},
   "outputs": [
    {
     "name": "stdout",
     "output_type": "stream",
     "text": [
      "True\r\n"
     ]
    }
   ],
   "source": [
    "string str = \"Supercalifragilisticexpialidocious\";\n",
    "bool substr = str.Contains(\"ice\");\n",
    "Console.WriteLine(substr);"
   ]
  },
  {
   "cell_type": "markdown",
   "id": "66eaf6c7",
   "metadata": {},
   "source": [
    "c)Which of the following words is the longest: Supercalifragilisticexpialidocious, Honorificabilitudinitatibus, or Bababadalgharaghtakamminarronnkonn?"
   ]
  },
  {
   "cell_type": "code",
   "execution_count": 19,
   "id": "1fe4f773",
   "metadata": {},
   "outputs": [
    {
     "name": "stdout",
     "output_type": "stream",
     "text": [
      "The longest words : Supercalifragilisticexpialidocious, Bababadalgharaghtakamminarronnkonn\r\n"
     ]
    }
   ],
   "source": [
    "string str1 = \"Supercalifragilisticexpialidocious\";\n",
    "string str2 = \"Honorificabilitudinitatibus\";\n",
    "string str3 = \"Bababadalgharaghtakamminarronnkonn\";\n",
    "\n",
    "string Longest = \"\"; \n",
    "int MaxLength = 0;\n",
    "int Len1 = str1.Length;\n",
    "int Len2 = str2.Length;\n",
    "int Len3 = str3.Length;\n",
    "\n",
    "if (Len1 >= MaxLength)\n",
    "{\n",
    "    if (Len1 > MaxLength)\n",
    "    {\n",
    "        MaxLength = Len1;\n",
    "        Longest = str1;\n",
    "    }\n",
    "    else\n",
    "    {\n",
    "        Longest += \", \" + str1;\n",
    "    }\n",
    "}\n",
    "\n",
    "if (Len2 >= MaxLength)\n",
    "{\n",
    "    if (Len2 > MaxLength)\n",
    "    {\n",
    "        MaxLength = Len2;\n",
    "        Longest = str2;\n",
    "    }\n",
    "    else\n",
    "    {\n",
    "        Longest += \", \" + str2;\n",
    "    }\n",
    "}\n",
    "\n",
    "if (Len3 >= MaxLength)\n",
    "{\n",
    "    if (Len3 > MaxLength)\n",
    "    {\n",
    "        MaxLength = Len3;\n",
    "        Longest = str3;\n",
    "    }\n",
    "    else\n",
    "    {\n",
    "        Longest += \", \" + str3;\n",
    "    }\n",
    "}\n",
    "\n",
    "Console.WriteLine($\"The longest words : {LongestWord}\" );"
   ]
  },
  {
   "cell_type": "markdown",
   "id": "b92d39a4",
   "metadata": {},
   "source": [
    "d)Which composer comes first in the dictionary: 'Berlioz', 'Borodin', 'Brian', 'Bartok', 'Bellini', 'Buxtehude', 'Bernstein'. Which one comes last?"
   ]
  },
  {
   "cell_type": "code",
   "execution_count": 20,
   "id": "6fe24b15",
   "metadata": {},
   "outputs": [
    {
     "name": "stdout",
     "output_type": "stream",
     "text": [
      "The composer which comes first in the dictionary: Bartok\n",
      "The composer which comes last in the dictionary: Buxtehude\n"
     ]
    }
   ],
   "source": [
    "string[] composers = { \"Berlioz\", \"Borodin\", \"Brian\", \"Bartok\", \"Bellini\", \"Buxtehude\", \"Bernstein\" };\n",
    "\n",
    "string composerf = composers[0];\n",
    "string composerl = composers[0];\n",
    "\n",
    "\n",
    "foreach (string c in composers)\n",
    "{\n",
    "\n",
    "    if (string.Compare(c, composerf) < 0)\n",
    "    {\n",
    "        composerf = c;\n",
    "    }\n",
    "    else if (string.Compare(c, composerl) > 0)\n",
    "    {\n",
    "        composerl = c;\n",
    "    }\n",
    "}\n",
    "\n",
    "Console.WriteLine($\"The composer which comes first in the dictionary: {composerf}\");\n",
    "Console.WriteLine($\"The composer which comes last in the dictionary: {composerl}\");"
   ]
  },
  {
   "cell_type": "markdown",
   "id": "644d0b72",
   "metadata": {},
   "source": [
    "Question 3 \n",
    "Implement function triangleArea(a,b,c) that takes as input the lengths of the 3 sides of a triangle and returns the area of the triangle. By Heron's formula, the area of a triangle with side lengths a, b, and c is , where .\n",
    "\n",
    "  s(s-a)(s-b)(s-c)\n",
    "  s=(a+b+c)/2\n"
   ]
  },
  {
   "cell_type": "code",
   "execution_count": 21,
   "id": "fd4e6d25",
   "metadata": {},
   "outputs": [
    {
     "name": "stdout",
     "output_type": "stream",
     "text": [
      "The area of the triangle is 1.7320508075688772\r\n"
     ]
    }
   ],
   "source": [
    "static double triangleArea(double a, double b, double c)\n",
    "{\n",
    "    double s = (a + b + c) / 2;\n",
    "    double Area = Math.Sqrt(s * (s - a) * (s - b) * (s - c));\n",
    "    return Area;\n",
    "}\n",
    "\n",
    "double Area = triangleArea(2,2,2);\n",
    "\n",
    "Console.WriteLine($\"The area of the triangle is {Area}\");"
   ]
  },
  {
   "cell_type": "markdown",
   "id": "1a8c7fe2",
   "metadata": {},
   "source": [
    "Question 4\n",
    "Write a program in C# Sharp to separate odd and even integers in separate arrays. Go to the editor\n",
    "\n",
    "Test Data :\n",
    "\n",
    "Input the number of elements to be stored in the array :5\n",
    "\n",
    "Input 5 elements in the array :\n",
    "\n",
    "element - 0 : 25\n",
    "\n",
    "element - 1 : 47\n",
    "\n",
    "element - 2 : 42\n",
    "\n",
    "element - 3 : 56\n",
    "\n",
    "element - 4 : 32\n",
    "\n",
    "Expected Output:\n",
    "\n",
    "The Even elements are:\n",
    "\n",
    "42 56 32\n",
    "\n",
    "The Odd elements are :\n",
    "\n",
    "25 47"
   ]
  },
  {
   "cell_type": "code",
   "execution_count": 22,
   "id": "3045689a",
   "metadata": {},
   "outputs": [
    {
     "name": "stdout",
     "output_type": "stream",
     "text": [
      "The Even elements are:\n",
      "42 56 32 \n",
      "The Odd elements are:\n",
      "25 47 \n"
     ]
    }
   ],
   "source": [
    "int n = 5;\n",
    "int[] inputArray = new int [n];\n",
    "int[] evenArray = new int[n];\n",
    "int[] oddArray = new int[n];\n",
    "inputArray[0] = 25;\n",
    "inputArray[1] = 47;\n",
    "inputArray[2] = 42;\n",
    "inputArray[3] = 56;\n",
    "inputArray[4] = 32;\n",
    "int evenno = 0;\n",
    "int oddno = 0;\n",
    "foreach (int i in inputArray)\n",
    "{\n",
    "    if (i % 2 == 0)\n",
    "    {\n",
    "        evenArray[evenno] = i;\n",
    "        evenno++;\n",
    "    }\n",
    "    else\n",
    "    {\n",
    "        oddArray[oddno] = i;\n",
    "        oddno++;\n",
    "    }\n",
    "}\n",
    "Console.WriteLine(\"The Even elements are:\");\n",
    "for (int j = 0; j < evenno; j++)\n",
    "{\n",
    "    Console.Write(evenArray[j] + \" \");\n",
    "}\n",
    "Console.WriteLine();\n",
    "Console.WriteLine(\"The Odd elements are:\");\n",
    "for (int j = 0; j < oddno; j++)\n",
    "{\n",
    "    Console.Write(oddArray[j] + \" \");\n",
    "}\n",
    "Console.WriteLine();"
   ]
  },
  {
   "cell_type": "markdown",
   "id": "71ed9f41",
   "metadata": {},
   "source": [
    "Question 5 \n",
    "a)Write a function inside(x,y,x1,y1,x2,y2) that returns True or False depending on whether the point (x,y) lies in the rectangle with lower left corner (x1,y1) and upper right corner (x2,y2).\n",
    "inside(1,1,0,0,2,3)\n",
    "True\n",
    "inside(-1,-1,0,0,2,3)\n",
    "False"
   ]
  },
  {
   "cell_type": "code",
   "execution_count": 23,
   "id": "c0817703",
   "metadata": {},
   "outputs": [
    {
     "name": "stdout",
     "output_type": "stream",
     "text": [
      "inside(1,1,0,0,2,3): True\n",
      "inside(-1,-1,0,0,2,3): False\n"
     ]
    }
   ],
   "source": [
    "static bool inside(double x, double y, double x1, double y1, double x2, double y2)\n",
    "{\n",
    "    return (x >= x1 && x <= x2 && y >= y1 && y <= y2);\n",
    "}\n",
    "\n",
    "bool rect1= inside(1,1,0,0,2,3);\n",
    "bool rect2= inside(-1,-1,0,0,2,3);\n",
    "\n",
    "if (rect1)\n",
    "{\n",
    "    Console.WriteLine($\"inside(1,1,0,0,2,3): True\");\n",
    "}\n",
    "else\n",
    "{\n",
    "    Console.WriteLine($\"inside(1,1,0,0,2,3): False\");\n",
    "}\n",
    "if (rect2)\n",
    "{\n",
    "    Console.WriteLine($\"inside(-1,-1,0,0,2,3): True\");\n",
    "}\n",
    "else\n",
    "{\n",
    "    Console.WriteLine($\"inside(-1,-1,0,0,2,3): False\");\n",
    "}"
   ]
  },
  {
   "cell_type": "markdown",
   "id": "b6c7bc21",
   "metadata": {},
   "source": [
    "b)Use function inside() from part a. to write an expression that tests whether the point (1,1) lies in both of the following rectangles: one with lower left corner (0.3, 0.5) and upper right corner (1.1, 0.7) and the other with lower left corner (0.5, 0.2) and upper right corner (1.1, 2)."
   ]
  },
  {
   "cell_type": "code",
   "execution_count": 24,
   "id": "8409304c",
   "metadata": {},
   "outputs": [
    {
     "name": "stdout",
     "output_type": "stream",
     "text": [
      "(1,1) is not a point that lies inside both rectangles.\r\n"
     ]
    }
   ],
   "source": [
    "static bool inside(double x, double y, double x1, double y1, double x2, double y2)\n",
    "\n",
    "{\n",
    "    return (x >= x1 && x <= x2 && y >= y1 && y <= y2);\n",
    "}\n",
    "\n",
    "bool rect1 = inside(1,1,0.3,0.5,1.1,0.7);\n",
    "\n",
    "bool rect2 = inside(1,1,0.5,0.2,1.1,2);\n",
    "\n",
    "if (rect1 && rect2)\n",
    "\n",
    "{\n",
    "    Console.WriteLine($\"(1,1) is a point that lies inside both rectangles.\");\n",
    "}\n",
    "\n",
    "else\n",
    "\n",
    "{\n",
    "    Console.WriteLine($\"(1,1) is not a point that lies inside both rectangles.\");\n",
    "}"
   ]
  }
 ],
 "metadata": {
  "kernelspec": {
   "display_name": ".NET (C#)",
   "language": "C#",
   "name": ".net-csharp"
  },
  "language_info": {
   "file_extension": ".cs",
   "mimetype": "text/x-csharp",
   "name": "C#",
   "pygments_lexer": "csharp",
   "version": "8.0"
  }
 },
 "nbformat": 4,
 "nbformat_minor": 5
}
